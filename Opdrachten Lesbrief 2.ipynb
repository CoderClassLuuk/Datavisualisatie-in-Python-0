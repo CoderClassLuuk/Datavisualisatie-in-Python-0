{
 "cells": [
  {
   "cell_type": "code",
   "execution_count": 4,
   "metadata": {},
   "outputs": [
    {
     "data": {
      "text/plain": [
       "0     12\n",
       "1      3\n",
       "2    102\n",
       "4      8\n",
       "dtype: int64"
      ]
     },
     "execution_count": 4,
     "metadata": {},
     "output_type": "execute_result"
    }
   ],
   "source": [
    "import pandas as pd\n",
    "\n",
    "sNum = pd.Series([12,3,102,76,8,58,90])\n",
    "\n",
    "sNum[(sNum < 20) | (sNum > 100)]"
   ]
  },
  {
   "cell_type": "code",
   "execution_count": 6,
   "metadata": {},
   "outputs": [
    {
     "name": "stdout",
     "output_type": "stream",
     "text": [
      "Henk heeft 24 cijfers behaald.\n",
      "Henk's gemiddelde cijfer is een 6.449999999999999.\n",
      "Henk's laagste cijfer is een 2.0.\n",
      "Henk's hoogste cijfer is een 9.8.\n"
     ]
    }
   ],
   "source": [
    "import pandas as pd\n",
    "\n",
    "henkCijfers = pd.Series([6,7,8,4,5.5,6.5,7,2,5,4,3,8,9,9.8,9.7,9.4,2,5,7,8,6.2,5.7,8,9])\n",
    "\n",
    "print(\"Henk heeft \" + str(len(henkCijfers)) + \" cijfers behaald.\")\n",
    "\n",
    "print(\"Henk's gemiddelde cijfer is een \" + str(henkCijfers.mean()) + \".\")\n",
    "\n",
    "print(\"Henk's laagste cijfer is een \" + str(henkCijfers.min()) + \".\")\n",
    "\n",
    "print(\"Henk's hoogste cijfer is een \" + str(henkCijfers.max()) + \".\")"
   ]
  },
  {
   "cell_type": "code",
   "execution_count": null,
   "metadata": {},
   "outputs": [],
   "source": []
  }
 ],
 "metadata": {
  "kernelspec": {
   "display_name": "Python 3.6",
   "language": "python",
   "name": "python36"
  },
  "language_info": {
   "codemirror_mode": {
    "name": "ipython",
    "version": 3
   },
   "file_extension": ".py",
   "mimetype": "text/x-python",
   "name": "python",
   "nbconvert_exporter": "python",
   "pygments_lexer": "ipython3",
   "version": "3.6.3"
  }
 },
 "nbformat": 4,
 "nbformat_minor": 2
}
