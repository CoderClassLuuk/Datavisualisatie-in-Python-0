{
 "cells": [
  {
   "cell_type": "code",
   "execution_count": 4,
   "metadata": {},
   "outputs": [
    {
     "name": "stdout",
     "output_type": "stream",
     "text": [
      "Opdracht 1: Op de coördinaten 52.361718 en 4.918390 is het Metis Montessori Lyceum.\n",
      "Opdracht 2: Ik woon op de coördinaten -18.342743 en 32.759220, een willekeurig grotje in Zimbabwe. Ik ga ook zeker mijn echte adres op een openbare repository zetten.\n"
     ]
    }
   ],
   "source": [
    "print(\"Opdracht 1: Op de coördinaten 52.361718 en 4.918390 is het Metis Montessori Lyceum.\")\n",
    "print(\"Opdracht 2: Ik woon op de coördinaten -18.342743 en 32.759220, een willekeurig grotje in Zimbabwe. Ik ga ook zeker mijn echte adres op een openbare repository zetten.\")"
   ]
  },
  {
   "cell_type": "code",
   "execution_count": null,
   "metadata": {},
   "outputs": [],
   "source": [
    "import folium\n",
    "import pandas as pd\n",
    "from folium.plugins import HeatMap\n",
    "\n",
    "\n",
    "dfBijen = pd.read_csv(\"honingbijen.csv\")\n",
    "\n",
    "map = folium.Map(location=[52.363474,4.881609], zoom_start=10)\n",
    "\n",
    "kolommen = [\"LAT\", \"LNG\"]\n",
    "dfBijenLocaties = dfBijen[kolommen]\n",
    "bijenkorvenLijst = dfBijenLocaties.values.tolist()"
   ]
  }
 ],
 "metadata": {
  "kernelspec": {
   "display_name": "Python 3.6",
   "language": "python",
   "name": "python36"
  },
  "language_info": {
   "codemirror_mode": {
    "name": "ipython",
    "version": 3
   },
   "file_extension": ".py",
   "mimetype": "text/x-python",
   "name": "python",
   "nbconvert_exporter": "python",
   "pygments_lexer": "ipython3",
   "version": "3.6.3"
  }
 },
 "nbformat": 4,
 "nbformat_minor": 2
}
